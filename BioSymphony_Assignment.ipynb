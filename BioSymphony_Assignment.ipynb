{
  "nbformat": 4,
  "nbformat_minor": 0,
  "metadata": {
    "colab": {
      "provenance": [],
      "include_colab_link": true
    },
    "kernelspec": {
      "name": "python3",
      "display_name": "Python 3"
    },
    "language_info": {
      "name": "python"
    }
  },
  "cells": [
    {
      "cell_type": "markdown",
      "metadata": {
        "id": "view-in-github",
        "colab_type": "text"
      },
      "source": [
        "<a href=\"https://colab.research.google.com/github/ejekanshjain/easy-hacktoberfest/blob/main/BioSymphony_Assignment.ipynb\" target=\"_parent\"><img src=\"https://colab.research.google.com/assets/colab-badge.svg\" alt=\"Open In Colab\"/></a>"
      ]
    },
    {
      "cell_type": "code",
      "execution_count": null,
      "metadata": {
        "colab": {
          "base_uri": "https://localhost:8080/"
        },
        "id": "pnN0GKBjhlf8",
        "outputId": "54dfb93d-db40-41a1-ccfd-c837f0f616ff"
      },
      "outputs": [
        {
          "output_type": "stream",
          "name": "stdout",
          "text": [
            "Sum using positional arguments: 55\n",
            "Time taken for Func1: 9.5367431640625e-07 seconds\n",
            "Sum using keyword arguments: 55\n",
            "Time taken for Func2: 2.1457672119140625e-06 seconds\n"
          ]
        }
      ],
      "source": [
        "# Assignment 1\n",
        "# Add 10 numbers using functions in Python Programming. Func1() will take 10\n",
        "# arguments in the form of 10 numbers and print the summation result. Accordingly,\n",
        "# Func2() will take 10 numbers by using the concept of reference variable or keyword\n",
        "# arguments and simultaneously add those. Compute the time constraints of these two\n",
        "# functions.\n",
        "\n",
        "import time\n",
        "\n",
        "# Function to add 10 numbers using positional arguments\n",
        "def Func1(num1, num2, num3, num4, num5, num6, num7, num8, num9, num10):\n",
        "    start_time = time.time()\n",
        "    result = num1 + num2 + num3 + num4 + num5 + num6 + num7 + num8 + num9 + num10\n",
        "    end_time = time.time()\n",
        "    print(\"Sum using positional arguments:\", result)\n",
        "    print(\"Time taken for Func1:\", end_time - start_time, \"seconds\")\n",
        "\n",
        "# Function to add 10 numbers using keyword arguments\n",
        "def Func2(**kwargs):\n",
        "    start_time = time.time()\n",
        "    result = sum(kwargs.values())\n",
        "    end_time = time.time()\n",
        "    print(\"Sum using keyword arguments:\", result)\n",
        "    print(\"Time taken for Func2:\", end_time - start_time, \"seconds\")\n",
        "\n",
        "numbers = (1, 2, 3, 4, 5, 6, 7, 8, 9, 10)\n",
        "\n",
        "Func1(*numbers)\n",
        "Func2(num1=1, num2=2, num3=3, num4=4, num5=5, num6=6, num7=7, num8=8, num9=9, num10=10)\n"
      ]
    },
    {
      "cell_type": "code",
      "source": [
        "# Assignment 2\n",
        "# Create a 3x3 matrix and perform LU factorization.\n",
        "\n",
        "import numpy as np\n",
        "import scipy.linalg as la\n",
        "\n",
        "A = np.array([[4, 3, 2],\n",
        "              [9, 7, 8],\n",
        "              [1, 5, 6]])\n",
        "\n",
        "P, L, U = la.lu(A)\n",
        "\n",
        "print(\"Original Matrix A:\")\n",
        "print(A)\n",
        "\n",
        "print(\"Permutation Matrix P:\")\n",
        "print(P)\n",
        "\n",
        "print(\"Lower Triangular Matrix L:\")\n",
        "print(L)\n",
        "\n",
        "print(\"Upper Triangular Matrix U:\")\n",
        "print(U)\n"
      ],
      "metadata": {
        "colab": {
          "base_uri": "https://localhost:8080/"
        },
        "id": "-BLScH4JhmWR",
        "outputId": "6616b550-be7b-4a81-f117-f32d322ef218"
      },
      "execution_count": null,
      "outputs": [
        {
          "output_type": "stream",
          "name": "stdout",
          "text": [
            "Original Matrix A:\n",
            "[[4 3 2]\n",
            " [9 7 8]\n",
            " [1 5 6]]\n",
            "Permutation Matrix P:\n",
            "[[0. 0. 1.]\n",
            " [1. 0. 0.]\n",
            " [0. 1. 0.]]\n",
            "Lower Triangular Matrix L:\n",
            "[[ 1.          0.          0.        ]\n",
            " [ 0.11111111  1.          0.        ]\n",
            " [ 0.44444444 -0.02631579  1.        ]]\n",
            "Upper Triangular Matrix U:\n",
            "[[ 9.          7.          8.        ]\n",
            " [ 0.          4.22222222  5.11111111]\n",
            " [ 0.          0.         -1.42105263]]\n"
          ]
        }
      ]
    },
    {
      "cell_type": "code",
      "source": [
        "# Assignment 3\n",
        "# Create one-dimensional, two-dimensional, and three-dimensional arrays using Numpy\n",
        "# module and accordingly compute the speed of different arrays.\n",
        "\n",
        "import numpy as np\n",
        "import time\n",
        "\n",
        "# 1-dimensional array\n",
        "one_dimensional_array = np.random.rand(1000000)\n",
        "\n",
        "# 2-dimensional array\n",
        "two_dimensional_array = np.random.rand(1000, 1000)\n",
        "\n",
        "# 3-dimensional array\n",
        "three_dimensional_array = np.random.rand(100, 100, 100)\n",
        "\n",
        "# Measure the speed of each array creation\n",
        "start_time = time.time()\n",
        "_ = np.random.rand(1000000)\n",
        "one_dimensional_time = time.time() - start_time\n",
        "\n",
        "start_time = time.time()\n",
        "_ = np.random.rand(1000, 1000)\n",
        "two_dimensional_time = time.time() - start_time\n",
        "\n",
        "start_time = time.time()\n",
        "_ = np.random.rand(100, 100, 100)\n",
        "three_dimensional_time = time.time() - start_time\n",
        "\n",
        "print(\"Time taken to create 1-dimensional array: {:.6f} seconds\".format(one_dimensional_time))\n",
        "print(\"Time taken to create 2-dimensional array: {:.6f} seconds\".format(two_dimensional_time))\n",
        "print(\"Time taken to create 3-dimensional array: {:.6f} seconds\".format(three_dimensional_time))\n"
      ],
      "metadata": {
        "colab": {
          "base_uri": "https://localhost:8080/"
        },
        "id": "LNVuuVAxhp1L",
        "outputId": "46c3630e-4a6f-4bdc-c208-a591aee7473d"
      },
      "execution_count": null,
      "outputs": [
        {
          "output_type": "stream",
          "name": "stdout",
          "text": [
            "Time taken to create 1-dimensional array: 0.019038 seconds\n",
            "Time taken to create 2-dimensional array: 0.019151 seconds\n",
            "Time taken to create 3-dimensional array: 0.019257 seconds\n"
          ]
        }
      ]
    },
    {
      "cell_type": "code",
      "source": [
        "# Assignment 4\n",
        "# What is the sparsity of a matrix? Create a sparse matrix and find the sparsity of the matrix.\n",
        "\n",
        "# The sparsity of a matrix is a measure of how many of its elements are zero or\n",
        "# empty relative to the total number of elements. In other words,\n",
        "# it indicates the proportion of zero elements in a matrix.\n",
        "# A matrix is considered sparse when a significant portion of its entries is zero.\n",
        "\n",
        "import numpy as np\n",
        "from scipy.sparse import csr_matrix\n",
        "from scipy.sparse import find\n",
        "\n",
        "dense_matrix = np.array([[0, 0, 0, 0, 0],\n",
        "                        [0, 0, 5, 0, 0],\n",
        "                        [0, 0, 0, 0, 0],\n",
        "                        [0, 0, 0, 0, 0]])\n",
        "\n",
        "sparse_matrix = csr_matrix(dense_matrix)\n",
        "\n",
        "non_zero_elements = find(sparse_matrix)\n",
        "\n",
        "total_elements = sparse_matrix.shape[0] * sparse_matrix.shape[1]\n",
        "sparsity = 1 - (len(non_zero_elements[0]) / total_elements)\n",
        "\n",
        "print(\"Sparse Matrix:\")\n",
        "print(sparse_matrix.toarray())\n",
        "print(\"Sparsity of the matrix: {:.4f}\".format(sparsity))\n"
      ],
      "metadata": {
        "colab": {
          "base_uri": "https://localhost:8080/"
        },
        "id": "eDWHMxDghtt5",
        "outputId": "69bcf469-63b2-46a6-aa49-9b822989a827"
      },
      "execution_count": null,
      "outputs": [
        {
          "output_type": "stream",
          "name": "stdout",
          "text": [
            "Sparse Matrix:\n",
            "[[0 0 0 0 0]\n",
            " [0 0 5 0 0]\n",
            " [0 0 0 0 0]\n",
            " [0 0 0 0 0]]\n",
            "Sparsity of the matrix: 0.9500\n"
          ]
        }
      ]
    },
    {
      "cell_type": "code",
      "source": [
        "# Assignment 5\n",
        "# Create a dataframe and compute the mean, median, and S.D. of the data. Apply MinMaxScaling\n",
        "# technique to compute each and every rows of Salary column.\n",
        "# MinMaxScaling formula = (data(salary) – minimum of data(salary))/(maximum of data(salary)-minimum of data (salary))\n",
        "\n",
        "import pandas as pd\n",
        "from sklearn.preprocessing import MinMaxScaler\n",
        "\n",
        "data = {'Id': [1, 2, 3, 4, 5, 6, 7, 8, 9, 10],\n",
        "        'Age': [32, 21, 54, 34, 87, 43, 28, 59, 45, 47],\n",
        "        'Salary': [10000, 15000, 20000, 24000, 57000, 45000, 87000, 31000, 35000, 65000]}\n",
        "\n",
        "df = pd.DataFrame(data)\n",
        "\n",
        "mean_salary = df['Salary'].mean()\n",
        "median_salary = df['Salary'].median()\n",
        "std_dev_salary = df['Salary'].std()\n",
        "\n",
        "print(f\"Mean Salary: {mean_salary}\")\n",
        "print(f\"Median Salary: {median_salary}\")\n",
        "print(f\"Standard Deviation of Salary: {std_dev_salary}\")\n",
        "\n",
        "scaler = MinMaxScaler()\n",
        "df['Scaled_Salary'] = scaler.fit_transform(df[['Salary']])\n",
        "\n",
        "print(df)\n"
      ],
      "metadata": {
        "colab": {
          "base_uri": "https://localhost:8080/"
        },
        "id": "ey3LPWpuhvPi",
        "outputId": "2bf0fe0b-e5ea-4bf7-a67a-3d8649d7eb63"
      },
      "execution_count": null,
      "outputs": [
        {
          "output_type": "stream",
          "name": "stdout",
          "text": [
            "Mean Salary: 38900.0\n",
            "Median Salary: 33000.0\n",
            "Standard Deviation of Salary: 24546.780734842694\n",
            "   Id  Age  Salary  Scaled_Salary\n",
            "0   1   32   10000       0.000000\n",
            "1   2   21   15000       0.064935\n",
            "2   3   54   20000       0.129870\n",
            "3   4   34   24000       0.181818\n",
            "4   5   87   57000       0.610390\n",
            "5   6   43   45000       0.454545\n",
            "6   7   28   87000       1.000000\n",
            "7   8   59   31000       0.272727\n",
            "8   9   45   35000       0.324675\n",
            "9  10   47   65000       0.714286\n"
          ]
        }
      ]
    },
    {
      "cell_type": "code",
      "source": [
        "# Assignment 6\n",
        "# F(x)=x^2 within an interval [0,1]. What would be the value for definite integral?\n",
        "\n",
        "from scipy import integrate\n",
        "\n",
        "def f(x):\n",
        "    return x**2\n",
        "\n",
        "result, _ = integrate.quad(f, 0, 1)\n",
        "\n",
        "print(\"Definite Integral:\", result)\n"
      ],
      "metadata": {
        "colab": {
          "base_uri": "https://localhost:8080/"
        },
        "id": "cOQHq3B2hw0U",
        "outputId": "2f4328e5-6b39-4fc2-cb74-03d797dcc4bf"
      },
      "execution_count": null,
      "outputs": [
        {
          "output_type": "stream",
          "name": "stdout",
          "text": [
            "Definite Integral: 0.33333333333333337\n"
          ]
        }
      ]
    },
    {
      "cell_type": "code",
      "source": [
        "# Assignment 7\n",
        "# X = [2,4,5,9,14], and y = [3.5,4.1,5.2,9.1,17],,, find the slope and intercept values\n",
        "# after computing linear regression using scipy module.\n",
        "\n",
        "\n",
        "import numpy as np\n",
        "from scipy import stats\n",
        "\n",
        "X = [2, 4, 5, 9, 14]\n",
        "y = [3.5, 4.1, 5.2, 9.1, 17]\n",
        "\n",
        "slope, intercept, r_value, p_value, std_err = stats.linregress(X, y)\n",
        "\n",
        "print(\"Slope:\", slope)\n",
        "print(\"Intercept:\", intercept)\n"
      ],
      "metadata": {
        "colab": {
          "base_uri": "https://localhost:8080/"
        },
        "id": "XJfNkkSQhytt",
        "outputId": "cea1b918-572c-4ab3-ca45-5d81e28fef1f"
      },
      "execution_count": null,
      "outputs": [
        {
          "output_type": "stream",
          "name": "stdout",
          "text": [
            "Slope: 1.1539647577092513\n",
            "Intercept: -0.06696035242290943\n"
          ]
        }
      ]
    },
    {
      "cell_type": "code",
      "source": [
        "# Assignment 8\n",
        "# What is the difference between list and arrays?\n",
        "\n",
        "# In Python, both lists and arrays are used to store collections of data. However, there are some key differences between the two:\n",
        "\n",
        "# Data Type:\n",
        "# Lists: In Python, lists are a versatile data structure that can store elements of different data types. You can have a list that contains integers, strings, floats, or even other lists.\n",
        "# Arrays: Arrays in Python typically refer to arrays created using external libraries like NumPy. These arrays are designed to work with homogeneous data types, which means that all elements in the array should be of the same data type (e.g., all integers or all floats). This homogeneity allows for more efficient memory usage and faster operations on the data.\n",
        "\n",
        "# Performance:\n",
        "# Lists: Lists are more flexible but are generally slower than arrays because they are not optimized for mathematical or numerical operations.\n",
        "# Arrays: Arrays, especially NumPy arrays, are highly optimized for numerical computations. They provide a significant performance advantage over lists when performing operations on large datasets.\n",
        "\n",
        "# Size Flexibility:\n",
        "# Lists: Lists in Python can dynamically change in size. You can add or remove elements as needed.\n",
        "# Arrays: Arrays created with libraries like NumPy have a fixed size upon creation. You cannot change the size of an array. If you need to change the size, you have to create a new array.\n",
        "\n",
        "# Functionality:\n",
        "# Lists: Lists offer a wide range of built-in functions and methods for common operations like appending, extending, slicing, and more. They are suitable for general-purpose data storage.\n",
        "# Arrays: NumPy arrays offer a comprehensive set of functions for performing mathematical and statistical operations. They are widely used in scientific computing, data analysis, and machine learning.\n",
        "\n",
        "\n",
        "\n",
        "# Here's a brief example illustrating the difference:\n",
        "\n",
        "# Using a List:\n",
        "\n",
        "my_list = [1, 2, 3, 4, 5]\n",
        "print(my_list)\n",
        "\n",
        "# Using a NumPy Array:\n",
        "\n",
        "import numpy as np\n",
        "\n",
        "my_array = np.array([1, 2, 3, 4, 5])\n",
        "print(my_array)\n"
      ],
      "metadata": {
        "colab": {
          "base_uri": "https://localhost:8080/"
        },
        "id": "ELa-h16Uh0aS",
        "outputId": "77d0f7c6-9ff3-46ac-e63a-0a35e23b6d33"
      },
      "execution_count": null,
      "outputs": [
        {
          "output_type": "stream",
          "name": "stdout",
          "text": [
            "[1, 2, 3, 4, 5]\n",
            "[1 2 3 4 5]\n"
          ]
        }
      ]
    },
    {
      "cell_type": "code",
      "source": [
        "# Assignment 9\n",
        "# Two sets are present. Set A is consisting = {1,2,3,4,5}, and set B is consisting =\n",
        "# {4,5,6,7,8}. Now figure out the intersection points, and A-B from these two sets.\n",
        "\n",
        "set_A = {1, 2, 3, 4, 5}\n",
        "set_B = {4, 5, 6, 7, 8}\n",
        "\n",
        "intersection = set_A.intersection(set_B)\n",
        "\n",
        "# Set difference A - B\n",
        "difference_A_B = set_A - set_B\n",
        "\n",
        "print(\"Intersection of A and B:\", intersection)\n",
        "print(\"Set Difference (A - B):\", difference_A_B)\n"
      ],
      "metadata": {
        "colab": {
          "base_uri": "https://localhost:8080/"
        },
        "id": "bgsGJjMWh1rh",
        "outputId": "69007caa-85c4-4ba5-a7df-877003109697"
      },
      "execution_count": null,
      "outputs": [
        {
          "output_type": "stream",
          "name": "stdout",
          "text": [
            "Intersection of A and B: {4, 5}\n",
            "Set Difference (A - B): {1, 2, 3}\n"
          ]
        }
      ]
    },
    {
      "cell_type": "code",
      "source": [
        "# Assignment 10\n",
        "# Define a square matrix and find out the eigenvalues and eigenvectors.\n",
        "\n",
        "import numpy as np\n",
        "\n",
        "A = np.array([[4, -2],\n",
        "              [1,  1]])\n",
        "\n",
        "eigenvalues, eigenvectors = np.linalg.eig(A)\n",
        "\n",
        "print(\"Eigenvalues:\")\n",
        "print(eigenvalues)\n",
        "print(\"\\nEigenvectors:\")\n",
        "print(eigenvectors)\n"
      ],
      "metadata": {
        "colab": {
          "base_uri": "https://localhost:8080/"
        },
        "id": "ZsRbsQ-1h3qm",
        "outputId": "df7d80fe-d01a-4fe7-8a34-78493dee53b1"
      },
      "execution_count": null,
      "outputs": [
        {
          "output_type": "stream",
          "name": "stdout",
          "text": [
            "Eigenvalues:\n",
            "[3. 2.]\n",
            "\n",
            "Eigenvectors:\n",
            "[[0.89442719 0.70710678]\n",
            " [0.4472136  0.70710678]]\n"
          ]
        }
      ]
    },
    {
      "cell_type": "code",
      "source": [
        "# Assignment 11\n",
        "# What do you mean by dimensionality reduction? Create a 10x10 matrix and reduce\n",
        "# the dimensions of the matrix where components would be 5 and print the value.\n",
        "\n",
        "# Dimensionality reduction is a technique used in data analysis and machine learning to reduce the number of features or dimensions in a dataset while preserving as much meaningful information as possible.\n",
        "# Principal Component Analysis (PCA) is a commonly used method for dimensionality reduction.\n",
        "\n",
        "import numpy as np\n",
        "from sklearn.decomposition import PCA\n",
        "\n",
        "matrix = np.random.rand(10, 10)\n",
        "\n",
        "pca = PCA(n_components=5)\n",
        "\n",
        "reduced_matrix = pca.fit_transform(matrix)\n",
        "\n",
        "print(reduced_matrix)\n"
      ],
      "metadata": {
        "colab": {
          "base_uri": "https://localhost:8080/"
        },
        "id": "6GiWs6f7h5Eu",
        "outputId": "d8df6553-e7d4-49e6-cac6-574571420ee7"
      },
      "execution_count": null,
      "outputs": [
        {
          "output_type": "stream",
          "name": "stdout",
          "text": [
            "[[-0.24076676  0.49950705 -0.2138323   0.65798433 -0.3184592 ]\n",
            " [ 0.28547518 -0.31725911 -0.10675694 -0.43047485 -0.35801848]\n",
            " [-0.22265574  0.7378206   0.42767185 -0.36928168 -0.28062547]\n",
            " [ 0.06321022 -0.54871029 -0.25676322  0.00781662 -0.36360136]\n",
            " [-0.79241992 -0.49173166  0.27883216  0.01016375  0.06979588]\n",
            " [ 0.23002268 -0.11294044  0.68658167  0.06327412  0.24217713]\n",
            " [-0.38654504  0.20889913 -0.60921152 -0.3265318   0.32944247]\n",
            " [-0.31387454 -0.2295772  -0.00791138  0.32204962  0.23220898]\n",
            " [ 1.10458157 -0.01746372 -0.03641921  0.17942815  0.07674424]\n",
            " [ 0.27297235  0.27145565 -0.1621911  -0.11442826  0.37033581]]\n"
          ]
        }
      ]
    },
    {
      "cell_type": "code",
      "source": [
        "# Assignment 12\n",
        "# Get the mean covariance from the above dataset without using any inbuilt functions.\n",
        "# Find out the correlation matrix of the dataset.\n",
        "\n",
        "# Define the dataset\n",
        "X = [100, 150, 410, 105, 450, 720, 735, 801, 987, 441]\n",
        "Y = [855, 780, 444, 673, 785, 109, 175, 193, 1020, 78]\n",
        "\n",
        "# Calculate the mean of X and Y\n",
        "mean_X = sum(X) / len(X)\n",
        "mean_Y = sum(Y) / len(Y)\n",
        "\n",
        "# Calculate the covariance\n",
        "n = len(X)\n",
        "covariance = sum((X[i] - mean_X) * (Y[i] - mean_Y) for i in range(n)) / (n - 1)\n",
        "\n",
        "# Calculate the correlation matrix\n",
        "# Create a 2x2 matrix for correlation\n",
        "correlation_matrix = [[0, 0], [0, 0]]\n",
        "\n",
        "# Calculate the diagonal values (variance of X and Y)\n",
        "variance_X = sum((x - mean_X) ** 2 for x in X) / (n - 1)\n",
        "variance_Y = sum((y - mean_Y) ** 2 for y in Y) / (n - 1)\n",
        "correlation_matrix[0][0] = variance_X\n",
        "correlation_matrix[1][1] = variance_Y\n",
        "\n",
        "# Calculate the off-diagonal value (correlation between X and Y)\n",
        "correlation_matrix[0][1] = covariance / ((variance_X * variance_Y) ** 0.5)\n",
        "correlation_matrix[1][0] = correlation_matrix[0][1]\n",
        "\n",
        "print(\"Mean Covariance:\", covariance)\n",
        "print(\"Correlation Matrix:\")\n",
        "for row in correlation_matrix:\n",
        "    print(row)\n"
      ],
      "metadata": {
        "colab": {
          "base_uri": "https://localhost:8080/"
        },
        "id": "Kz8DNSywh6YT",
        "outputId": "42b78e52-d310-4894-fec2-24123510973e"
      },
      "execution_count": null,
      "outputs": [
        {
          "output_type": "stream",
          "name": "stdout",
          "text": [
            "Mean Covariance: -32564.200000000004\n",
            "Correlation Matrix:\n",
            "[98108.9888888889, -0.2948835367856574]\n",
            "[-0.2948835367856574, 124299.95555555554]\n"
          ]
        }
      ]
    }
  ]
}