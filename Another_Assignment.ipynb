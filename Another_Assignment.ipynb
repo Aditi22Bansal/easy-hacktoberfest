{
  "nbformat": 4,
  "nbformat_minor": 0,
  "metadata": {
    "colab": {
      "provenance": [],
      "authorship_tag": "ABX9TyN6BThHl24vCZ6BpIHbel2p",
      "include_colab_link": true
    },
    "kernelspec": {
      "name": "python3",
      "display_name": "Python 3"
    },
    "language_info": {
      "name": "python"
    }
  },
  "cells": [
    {
      "cell_type": "markdown",
      "metadata": {
        "id": "view-in-github",
        "colab_type": "text"
      },
      "source": [
        "<a href=\"https://colab.research.google.com/github/ejekanshjain/easy-hacktoberfest/blob/main/Another_Assignment.ipynb\" target=\"_parent\"><img src=\"https://colab.research.google.com/assets/colab-badge.svg\" alt=\"Open In Colab\"/></a>"
      ]
    },
    {
      "cell_type": "markdown",
      "source": [
        "Q1. What is the difference between multiprocessing and multithreading?\n",
        "\n",
        "Multiprocessing and multithreading are both techniques used in computer programming to achieve parallelism, but they differ in how they create and manage concurrent tasks. Let me explain the differences:\n",
        "\n",
        "In multiprocessing, multiple processes are created. Each process has its own memory space and resources. These processes run independently of each other and can perform tasks in parallel. Because they have separate memory spaces, communication between processes can be more challenging and often involves inter-process communication (IPC) mechanisms.\n",
        "\n",
        "Multithreading, on the other hand, involves multiple threads running within a single process. Threads share the same memory space and resources of the parent process. They are lightweight compared to processes and can be created and managed more efficiently. Communication between threads is typically easier since they share the same memory."
      ],
      "metadata": {
        "id": "pZf4RubrF_eM"
      }
    },
    {
      "cell_type": "code",
      "execution_count": null,
      "metadata": {
        "colab": {
          "base_uri": "https://localhost:8080/"
        },
        "id": "ZFVrFqngF3yE",
        "outputId": "a01a626b-bf23-46ef-e0df-49e5262ba058"
      },
      "outputs": [
        {
          "output_type": "stream",
          "name": "stdout",
          "text": [
            "Processed 1 and got result: 2Processed 2 and got result: 4\n",
            "Processed 3 and got result: 6\n",
            "Processed 4 and got result: 8\n",
            "\n",
            "Processed 5 and got result: 10\n"
          ]
        }
      ],
      "source": [
        "# Q2. Write a simple program of multiprocessing.\n",
        "\n",
        "\n",
        "import multiprocessing\n",
        "\n",
        "# Define a function that will run in parallel\n",
        "def worker_function(number):\n",
        "    result = number * 2\n",
        "    print(f\"Processed {number} and got result: {result}\")\n",
        "\n",
        "if __name__ == \"__main__\":\n",
        "    # Create a list of numbers\n",
        "    numbers = [1, 2, 3, 4, 5]\n",
        "\n",
        "    # Create a multiprocessing pool with 2 processes\n",
        "    pool = multiprocessing.Pool(processes=2)\n",
        "\n",
        "    # Use the pool to map the worker function to the numbers\n",
        "    pool.map(worker_function, numbers)\n",
        "\n",
        "    # Close the pool to free resources\n",
        "    pool.close()\n",
        "    pool.join()\n"
      ]
    },
    {
      "cell_type": "code",
      "source": [
        "# Q3.\n",
        "# How does a particular python code utilize shared memory using the multiprocessing module\n",
        "# to create a process that modifies shared data and what values are printed for the\n",
        "# shared variables \"number\" and \"array\" after the process is executed?\n",
        "\n",
        "\n",
        "# In Python's multiprocessing module, you can use shared memory to create processes\n",
        "# that modify shared data. This can be achieved using the multiprocessing.Array or multiprocessing.Value\n",
        "# to create shared variables.\n",
        "# When you modify these shared variables in a process, the changes are reflected in the original variables.\n",
        "\n",
        "import multiprocessing\n",
        "\n",
        "def modify_shared_data(shared_number, shared_array):\n",
        "    shared_number.value *= 2  # Modify the shared integer\n",
        "    for i in range(len(shared_array)):\n",
        "        shared_array[i] *= 2  # Modify the shared array\n",
        "\n",
        "if __name__ == \"__main__\":\n",
        "    # Create shared integer\n",
        "    shared_number = multiprocessing.Value('i', 5)\n",
        "\n",
        "    # Create shared array\n",
        "    shared_array = multiprocessing.Array('i', [1, 2, 3, 4, 5])\n",
        "\n",
        "    # Create a process that modifies the shared data\n",
        "    process = multiprocessing.Process(target=modify_shared_data, args=(shared_number, shared_array))\n",
        "\n",
        "    # Start the process\n",
        "    process.start()\n",
        "\n",
        "    # Wait for the process to finish\n",
        "    process.join()\n",
        "\n",
        "    # Print the shared variables after the process is executed\n",
        "    print(\"Shared number after process:\", shared_number.value)\n",
        "    print(\"Shared array after process:\", list(shared_array))\n"
      ],
      "metadata": {
        "colab": {
          "base_uri": "https://localhost:8080/"
        },
        "id": "fJ5V-JNjGvdH",
        "outputId": "208e2ac1-fd33-4086-d7c8-498bdd19a744"
      },
      "execution_count": null,
      "outputs": [
        {
          "output_type": "stream",
          "name": "stdout",
          "text": [
            "Shared number after process: 10\n",
            "Shared array after process: [2, 4, 6, 8, 10]\n"
          ]
        }
      ]
    },
    {
      "cell_type": "code",
      "source": [
        "# Q4.\n",
        "# How does the Python code utilize the \"multiprocessing. Pool\"\n",
        "# to execute the square function in parallel for the provided list of numbers\n",
        "# and what is the output of the result variable printed at the end?\n",
        "\n",
        "\n",
        "import multiprocessing\n",
        "\n",
        "# Function to calculate the square of a number\n",
        "def square_function(number):\n",
        "    result = number ** 2\n",
        "    return result\n",
        "\n",
        "if __name__ == \"__main__\":\n",
        "    # List of numbers to square\n",
        "    numbers = [1, 2, 3, 4, 5]\n",
        "\n",
        "    # Create a multiprocessing pool with 2 processes\n",
        "    with multiprocessing.Pool(processes=2) as pool:\n",
        "        # Use the pool to map the square_function to the list of numbers\n",
        "        results = pool.map(square_function, numbers)\n",
        "\n",
        "    # Print the results\n",
        "    print(\"Results:\", results)\n"
      ],
      "metadata": {
        "colab": {
          "base_uri": "https://localhost:8080/"
        },
        "id": "LXa5ccoOHXR7",
        "outputId": "f9db0799-4805-4a95-b276-d6d2c98ef72a"
      },
      "execution_count": null,
      "outputs": [
        {
          "output_type": "stream",
          "name": "stdout",
          "text": [
            "Results: [1, 4, 9, 16, 25]\n"
          ]
        }
      ]
    },
    {
      "cell_type": "code",
      "source": [
        "# Q5.\n",
        "# Explain how the Python code utilizes a shared value and a lock from the\n",
        "# multiprocessing module to ensure synchronized access to the shared value.\n",
        "# Additionally, what is the final value of the shared have completed their tasks?\n",
        "\n",
        "\n",
        "# In Python, you can use the multiprocessing module to ensure synchronized access to a shared value by using a combination of a shared value and a lock.\n",
        "# A lock is a synchronization primitive that prevents multiple processes from simultaneously modifying the shared value.\n",
        "\n",
        "\n",
        "import multiprocessing\n",
        "\n",
        "# Function to increment the shared value\n",
        "def increment_shared_value(shared_value, lock):\n",
        "    for _ in range(100000):\n",
        "        # Acquire the lock to ensure exclusive access to the shared value\n",
        "        lock.acquire()\n",
        "        shared_value.value += 1\n",
        "        # Release the lock to allow other processes to access the shared value\n",
        "        lock.release()\n",
        "\n",
        "if __name__ == \"__main__\":\n",
        "    # Create a shared value\n",
        "    shared_value = multiprocessing.Value('i', 0)\n",
        "\n",
        "    # Create a lock\n",
        "    lock = multiprocessing.Lock()\n",
        "\n",
        "    # Create two processes that increment the shared value\n",
        "    process1 = multiprocessing.Process(target=increment_shared_value, args=(shared_value, lock))\n",
        "    process2 = multiprocessing.Process(target=increment_shared_value, args=(shared_value, lock))\n",
        "\n",
        "    # Start both processes\n",
        "    process1.start()\n",
        "    process2.start()\n",
        "\n",
        "    # Wait for both processes to finish\n",
        "    process1.join()\n",
        "    process2.join()\n",
        "\n",
        "    # Print the final value of the shared value\n",
        "    print(\"Final shared value:\", shared_value.value)\n",
        "\n",
        "# The final value of the shared value after both processes have completed their tasks will be 200000.\n",
        "# Each process increments the shared value 100,000 times, and since they do so in\n",
        "# a synchronized manner using the lock, the total value is the sum of both increments.\n"
      ],
      "metadata": {
        "colab": {
          "base_uri": "https://localhost:8080/"
        },
        "id": "BncRJDdeHsUV",
        "outputId": "3390d5c6-c749-4a01-9506-7bfc47fbedf1"
      },
      "execution_count": null,
      "outputs": [
        {
          "output_type": "stream",
          "name": "stdout",
          "text": [
            "Final shared value: 200000\n"
          ]
        }
      ]
    },
    {
      "cell_type": "code",
      "source": [
        "! pip install jax jaxlib\n"
      ],
      "metadata": {
        "colab": {
          "base_uri": "https://localhost:8080/"
        },
        "id": "kiZrOL4WIDaB",
        "outputId": "166946af-4a0a-42de-bf24-0c2e45704597"
      },
      "execution_count": null,
      "outputs": [
        {
          "output_type": "stream",
          "name": "stdout",
          "text": [
            "Requirement already satisfied: jax in /usr/local/lib/python3.10/dist-packages (0.4.16)\n",
            "Requirement already satisfied: jaxlib in /usr/local/lib/python3.10/dist-packages (0.4.16+cuda11.cudnn86)\n",
            "Requirement already satisfied: ml-dtypes>=0.2.0 in /usr/local/lib/python3.10/dist-packages (from jax) (0.3.1)\n",
            "Requirement already satisfied: numpy>=1.22 in /usr/local/lib/python3.10/dist-packages (from jax) (1.23.5)\n",
            "Requirement already satisfied: opt-einsum in /usr/local/lib/python3.10/dist-packages (from jax) (3.3.0)\n",
            "Requirement already satisfied: scipy>=1.7 in /usr/local/lib/python3.10/dist-packages (from jax) (1.11.3)\n"
          ]
        }
      ]
    },
    {
      "cell_type": "code",
      "source": [
        "# Q6.\n",
        "# Write down a sample code which computes the difference between the speed of numpy and jax numpy?\n",
        "\n",
        "\n",
        "import numpy as np\n",
        "import jax.numpy as jnp\n",
        "import time\n",
        "\n",
        "# Define the size of the matrix\n",
        "matrix_size = 1000\n",
        "\n",
        "# NumPy matrix multiplication\n",
        "np_matrix1 = np.random.rand(matrix_size, matrix_size)\n",
        "np_matrix2 = np.random.rand(matrix_size, matrix_size)\n",
        "start_time = time.time()\n",
        "np_result = np.dot(np_matrix1, np_matrix2)\n",
        "np_time = time.time() - start_time\n",
        "\n",
        "# JAX NumPy matrix multiplication\n",
        "jnp_matrix1 = jnp.array(np_matrix1)\n",
        "jnp_matrix2 = jnp.array(np_matrix2)\n",
        "start_time = time.time()\n",
        "jnp_result = jnp.dot(jnp_matrix1, jnp_matrix2).block_until_ready()\n",
        "jnp_time = time.time() - start_time\n",
        "\n",
        "# Print the execution times and results\n",
        "print(\"NumPy execution time:\", np_time)\n",
        "print(\"JAX NumPy execution time:\", jnp_time)\n",
        "print(\"Speedup (NumPy / JAX NumPy):\", np_time / jnp_time)\n"
      ],
      "metadata": {
        "colab": {
          "base_uri": "https://localhost:8080/"
        },
        "id": "tQgnT8hXIbOS",
        "outputId": "adb4e394-b8a1-4707-c858-52563b2a1c16"
      },
      "execution_count": null,
      "outputs": [
        {
          "output_type": "stream",
          "name": "stderr",
          "text": [
            "WARNING:jax._src.xla_bridge:No GPU/TPU found, falling back to CPU. (Set TF_CPP_MIN_LOG_LEVEL=0 and rerun for more info.)\n"
          ]
        },
        {
          "output_type": "stream",
          "name": "stdout",
          "text": [
            "NumPy execution time: 0.06287121772766113\n",
            "JAX NumPy execution time: 0.12920284271240234\n",
            "Speedup (NumPy / JAX NumPy): 0.4866086256910665\n"
          ]
        }
      ]
    },
    {
      "cell_type": "code",
      "source": [
        "# Q7.\n",
        "# Explain how the code utilizes JAX NumPy to define and apply a custom function\n",
        "# custom_function to the input array x, and what is the result of the\n",
        "# custom function for the provided values in the array x? where,\n",
        "# x = jnp.array([0.0, jnp.pi / 2, jnp.pil)\n",
        "# and return the following operation: jnp.sin(x) + jnp.cos(x)\n",
        "\n",
        "\n",
        "import jax.numpy as jnp\n",
        "\n",
        "# Define a custom function using JAX NumPy\n",
        "def custom_function(x):\n",
        "    return x * x + 2 * x + 1\n",
        "\n",
        "# Create an input array using JAX NumPy\n",
        "x = jnp.array([0.0, jnp.pi / 2, jnp.pi])\n",
        "\n",
        "# Apply the custom function to the input array\n",
        "result = custom_function(x)\n",
        "\n",
        "# Compute sin(x) and cos(x) using JAX NumPy\n",
        "sin_x = jnp.sin(x)\n",
        "cos_x = jnp.cos(x)\n",
        "\n",
        "# Add sin(x) and cos(x) element-wise\n",
        "result = sin_x + cos_x\n",
        "\n",
        "print(result)\n"
      ],
      "metadata": {
        "colab": {
          "base_uri": "https://localhost:8080/"
        },
        "id": "Xkis1oJbIj-8",
        "outputId": "c56b2480-7350-4150-f189-67ed924febfe"
      },
      "execution_count": null,
      "outputs": [
        {
          "output_type": "stream",
          "name": "stdout",
          "text": [
            "[ 1.          0.99999994 -1.0000001 ]\n"
          ]
        }
      ]
    },
    {
      "cell_type": "code",
      "source": [
        "# Q8.\n",
        "# There is an array: [1.0, -1.0, 0.0, and 1.5].\n",
        "# Compute this array for all values in such a way if the value is greater than 0\n",
        "# then it will return sin(x) or else will display cos(x).\n",
        "\n",
        "\n",
        "import numpy as np\n",
        "\n",
        "# Input array\n",
        "input_array = [1.0, -1.0, 0.0, 1.5]\n",
        "\n",
        "# Initialize an empty result list\n",
        "result = []\n",
        "\n",
        "# Loop through the input_array\n",
        "for x in input_array:\n",
        "    if x > 0:\n",
        "        result.append(np.sin(x))  # Calculate sin(x) if x is greater than 0\n",
        "    else:\n",
        "        result.append(np.cos(x))  # Calculate cos(x) if x is less than or equal to 0\n",
        "\n",
        "# Print the result\n",
        "print(result)\n"
      ],
      "metadata": {
        "colab": {
          "base_uri": "https://localhost:8080/"
        },
        "id": "eyr89jZ-Il2y",
        "outputId": "68d283af-aa78-45a1-ed3b-cd8c293bdac4"
      },
      "execution_count": null,
      "outputs": [
        {
          "output_type": "stream",
          "name": "stdout",
          "text": [
            "[0.8414709848078965, 0.5403023058681398, 1.0, 0.9974949866040544]\n"
          ]
        }
      ]
    },
    {
      "cell_type": "code",
      "source": [
        "# Q9.\n",
        "# Explain the utilization of \"multiprocessing. Pipe\" for inter-process communication,\n",
        "# where one process (sender) sends a series of messages through the pipe,\n",
        "# and another process (receiver) retrieves and prints these messages.\n",
        "# How the communication is managed between the parent and child processes,\n",
        "# and how are the messages exchanged and processed using the pipe? Explain with a suitable code.\n",
        "\n",
        "\n",
        "# multiprocessing.Pipe is a mechanism in Python's multiprocessing module that\n",
        "# allows inter-process communication (IPC) between two processes, typically\n",
        "# a parent process and a child process. One process (the sender) can send data\n",
        "# through the pipe, and the other process (the receiver) can retrieve and\n",
        "# process the data. Pipes are useful for passing data between different processes running in parallel.\n",
        "\n",
        "\n",
        "import multiprocessing\n",
        "\n",
        "def sender(conn):\n",
        "  messages = [\"Hello\", \"world!\", \"Goodbye\"]\n",
        "  for message in messages:\n",
        "    conn.send(message)\n",
        "\n",
        "def receiver(conn):\n",
        "  while True:\n",
        "    message = conn.recv()\n",
        "    if message is None:\n",
        "      break\n",
        "    print(message)\n",
        "\n",
        "if __name__ == \"__main__\":\n",
        "  parent_conn, child_conn = multiprocessing.Pipe()\n",
        "\n",
        "  p = multiprocessing.Process(target=sender, args=(child_conn,))\n",
        "  p.start()\n",
        "\n",
        "  receiver(parent_conn)\n",
        "\n",
        "  p.join()\n"
      ],
      "metadata": {
        "colab": {
          "base_uri": "https://localhost:8080/",
          "height": 436
        },
        "id": "SV1NbR0QInKZ",
        "outputId": "756088c4-3884-43bc-d8f4-d7ba4b16fbda"
      },
      "execution_count": null,
      "outputs": [
        {
          "output_type": "stream",
          "name": "stdout",
          "text": [
            "Hello\n",
            "world!\n",
            "Goodbye\n"
          ]
        },
        {
          "output_type": "error",
          "ename": "KeyboardInterrupt",
          "evalue": "ignored",
          "traceback": [
            "\u001b[0;31m---------------------------------------------------------------------------\u001b[0m",
            "\u001b[0;31mKeyboardInterrupt\u001b[0m                         Traceback (most recent call last)",
            "\u001b[0;32m<ipython-input-23-9d925e67c234>\u001b[0m in \u001b[0;36m<cell line: 30>\u001b[0;34m()\u001b[0m\n\u001b[1;32m     34\u001b[0m   \u001b[0mp\u001b[0m\u001b[0;34m.\u001b[0m\u001b[0mstart\u001b[0m\u001b[0;34m(\u001b[0m\u001b[0;34m)\u001b[0m\u001b[0;34m\u001b[0m\u001b[0;34m\u001b[0m\u001b[0m\n\u001b[1;32m     35\u001b[0m \u001b[0;34m\u001b[0m\u001b[0m\n\u001b[0;32m---> 36\u001b[0;31m   \u001b[0mreceiver\u001b[0m\u001b[0;34m(\u001b[0m\u001b[0mparent_conn\u001b[0m\u001b[0;34m)\u001b[0m\u001b[0;34m\u001b[0m\u001b[0;34m\u001b[0m\u001b[0m\n\u001b[0m\u001b[1;32m     37\u001b[0m \u001b[0;34m\u001b[0m\u001b[0m\n\u001b[1;32m     38\u001b[0m   \u001b[0mp\u001b[0m\u001b[0;34m.\u001b[0m\u001b[0mjoin\u001b[0m\u001b[0;34m(\u001b[0m\u001b[0;34m)\u001b[0m\u001b[0;34m\u001b[0m\u001b[0;34m\u001b[0m\u001b[0m\n",
            "\u001b[0;32m<ipython-input-23-9d925e67c234>\u001b[0m in \u001b[0;36mreceiver\u001b[0;34m(conn)\u001b[0m\n\u001b[1;32m     23\u001b[0m \u001b[0;32mdef\u001b[0m \u001b[0mreceiver\u001b[0m\u001b[0;34m(\u001b[0m\u001b[0mconn\u001b[0m\u001b[0;34m)\u001b[0m\u001b[0;34m:\u001b[0m\u001b[0;34m\u001b[0m\u001b[0;34m\u001b[0m\u001b[0m\n\u001b[1;32m     24\u001b[0m   \u001b[0;32mwhile\u001b[0m \u001b[0;32mTrue\u001b[0m\u001b[0;34m:\u001b[0m\u001b[0;34m\u001b[0m\u001b[0;34m\u001b[0m\u001b[0m\n\u001b[0;32m---> 25\u001b[0;31m     \u001b[0mmessage\u001b[0m \u001b[0;34m=\u001b[0m \u001b[0mconn\u001b[0m\u001b[0;34m.\u001b[0m\u001b[0mrecv\u001b[0m\u001b[0;34m(\u001b[0m\u001b[0;34m)\u001b[0m\u001b[0;34m\u001b[0m\u001b[0;34m\u001b[0m\u001b[0m\n\u001b[0m\u001b[1;32m     26\u001b[0m     \u001b[0;32mif\u001b[0m \u001b[0mmessage\u001b[0m \u001b[0;32mis\u001b[0m \u001b[0;32mNone\u001b[0m\u001b[0;34m:\u001b[0m\u001b[0;34m\u001b[0m\u001b[0;34m\u001b[0m\u001b[0m\n\u001b[1;32m     27\u001b[0m       \u001b[0;32mbreak\u001b[0m\u001b[0;34m\u001b[0m\u001b[0;34m\u001b[0m\u001b[0m\n",
            "\u001b[0;32m/usr/lib/python3.10/multiprocessing/connection.py\u001b[0m in \u001b[0;36mrecv\u001b[0;34m(self)\u001b[0m\n\u001b[1;32m    248\u001b[0m         \u001b[0mself\u001b[0m\u001b[0;34m.\u001b[0m\u001b[0m_check_closed\u001b[0m\u001b[0;34m(\u001b[0m\u001b[0;34m)\u001b[0m\u001b[0;34m\u001b[0m\u001b[0;34m\u001b[0m\u001b[0m\n\u001b[1;32m    249\u001b[0m         \u001b[0mself\u001b[0m\u001b[0;34m.\u001b[0m\u001b[0m_check_readable\u001b[0m\u001b[0;34m(\u001b[0m\u001b[0;34m)\u001b[0m\u001b[0;34m\u001b[0m\u001b[0;34m\u001b[0m\u001b[0m\n\u001b[0;32m--> 250\u001b[0;31m         \u001b[0mbuf\u001b[0m \u001b[0;34m=\u001b[0m \u001b[0mself\u001b[0m\u001b[0;34m.\u001b[0m\u001b[0m_recv_bytes\u001b[0m\u001b[0;34m(\u001b[0m\u001b[0;34m)\u001b[0m\u001b[0;34m\u001b[0m\u001b[0;34m\u001b[0m\u001b[0m\n\u001b[0m\u001b[1;32m    251\u001b[0m         \u001b[0;32mreturn\u001b[0m \u001b[0m_ForkingPickler\u001b[0m\u001b[0;34m.\u001b[0m\u001b[0mloads\u001b[0m\u001b[0;34m(\u001b[0m\u001b[0mbuf\u001b[0m\u001b[0;34m.\u001b[0m\u001b[0mgetbuffer\u001b[0m\u001b[0;34m(\u001b[0m\u001b[0;34m)\u001b[0m\u001b[0;34m)\u001b[0m\u001b[0;34m\u001b[0m\u001b[0;34m\u001b[0m\u001b[0m\n\u001b[1;32m    252\u001b[0m \u001b[0;34m\u001b[0m\u001b[0m\n",
            "\u001b[0;32m/usr/lib/python3.10/multiprocessing/connection.py\u001b[0m in \u001b[0;36m_recv_bytes\u001b[0;34m(self, maxsize)\u001b[0m\n\u001b[1;32m    412\u001b[0m \u001b[0;34m\u001b[0m\u001b[0m\n\u001b[1;32m    413\u001b[0m     \u001b[0;32mdef\u001b[0m \u001b[0m_recv_bytes\u001b[0m\u001b[0;34m(\u001b[0m\u001b[0mself\u001b[0m\u001b[0;34m,\u001b[0m \u001b[0mmaxsize\u001b[0m\u001b[0;34m=\u001b[0m\u001b[0;32mNone\u001b[0m\u001b[0;34m)\u001b[0m\u001b[0;34m:\u001b[0m\u001b[0;34m\u001b[0m\u001b[0;34m\u001b[0m\u001b[0m\n\u001b[0;32m--> 414\u001b[0;31m         \u001b[0mbuf\u001b[0m \u001b[0;34m=\u001b[0m \u001b[0mself\u001b[0m\u001b[0;34m.\u001b[0m\u001b[0m_recv\u001b[0m\u001b[0;34m(\u001b[0m\u001b[0;36m4\u001b[0m\u001b[0;34m)\u001b[0m\u001b[0;34m\u001b[0m\u001b[0;34m\u001b[0m\u001b[0m\n\u001b[0m\u001b[1;32m    415\u001b[0m         \u001b[0msize\u001b[0m\u001b[0;34m,\u001b[0m \u001b[0;34m=\u001b[0m \u001b[0mstruct\u001b[0m\u001b[0;34m.\u001b[0m\u001b[0munpack\u001b[0m\u001b[0;34m(\u001b[0m\u001b[0;34m\"!i\"\u001b[0m\u001b[0;34m,\u001b[0m \u001b[0mbuf\u001b[0m\u001b[0;34m.\u001b[0m\u001b[0mgetvalue\u001b[0m\u001b[0;34m(\u001b[0m\u001b[0;34m)\u001b[0m\u001b[0;34m)\u001b[0m\u001b[0;34m\u001b[0m\u001b[0;34m\u001b[0m\u001b[0m\n\u001b[1;32m    416\u001b[0m         \u001b[0;32mif\u001b[0m \u001b[0msize\u001b[0m \u001b[0;34m==\u001b[0m \u001b[0;34m-\u001b[0m\u001b[0;36m1\u001b[0m\u001b[0;34m:\u001b[0m\u001b[0;34m\u001b[0m\u001b[0;34m\u001b[0m\u001b[0m\n",
            "\u001b[0;32m/usr/lib/python3.10/multiprocessing/connection.py\u001b[0m in \u001b[0;36m_recv\u001b[0;34m(self, size, read)\u001b[0m\n\u001b[1;32m    377\u001b[0m         \u001b[0mremaining\u001b[0m \u001b[0;34m=\u001b[0m \u001b[0msize\u001b[0m\u001b[0;34m\u001b[0m\u001b[0;34m\u001b[0m\u001b[0m\n\u001b[1;32m    378\u001b[0m         \u001b[0;32mwhile\u001b[0m \u001b[0mremaining\u001b[0m \u001b[0;34m>\u001b[0m \u001b[0;36m0\u001b[0m\u001b[0;34m:\u001b[0m\u001b[0;34m\u001b[0m\u001b[0;34m\u001b[0m\u001b[0m\n\u001b[0;32m--> 379\u001b[0;31m             \u001b[0mchunk\u001b[0m \u001b[0;34m=\u001b[0m \u001b[0mread\u001b[0m\u001b[0;34m(\u001b[0m\u001b[0mhandle\u001b[0m\u001b[0;34m,\u001b[0m \u001b[0mremaining\u001b[0m\u001b[0;34m)\u001b[0m\u001b[0;34m\u001b[0m\u001b[0;34m\u001b[0m\u001b[0m\n\u001b[0m\u001b[1;32m    380\u001b[0m             \u001b[0mn\u001b[0m \u001b[0;34m=\u001b[0m \u001b[0mlen\u001b[0m\u001b[0;34m(\u001b[0m\u001b[0mchunk\u001b[0m\u001b[0;34m)\u001b[0m\u001b[0;34m\u001b[0m\u001b[0;34m\u001b[0m\u001b[0m\n\u001b[1;32m    381\u001b[0m             \u001b[0;32mif\u001b[0m \u001b[0mn\u001b[0m \u001b[0;34m==\u001b[0m \u001b[0;36m0\u001b[0m\u001b[0;34m:\u001b[0m\u001b[0;34m\u001b[0m\u001b[0;34m\u001b[0m\u001b[0m\n",
            "\u001b[0;31mKeyboardInterrupt\u001b[0m: "
          ]
        }
      ]
    },
    {
      "cell_type": "code",
      "source": [
        "# Q10.\n",
        "# Create one numpy array (a, b) and one jax numpy array (c, d) of 100X100 size.\n",
        "# Perform dot(.) product between the numpy array (a, b), and jax _numpy araay (c, d).\n",
        "# Compute the time between these two arrays.\n",
        "\n",
        "\n",
        "import numpy as np\n",
        "import jax.numpy as jnp\n",
        "import time\n",
        "\n",
        "# Create NumPy arrays\n",
        "a = np.random.rand(100, 100)\n",
        "b = np.random.rand(100, 100)\n",
        "\n",
        "# Create JAX NumPy arrays\n",
        "c = jnp.array(a)\n",
        "d = jnp.array(b)\n",
        "\n",
        "# Measure time for NumPy dot product\n",
        "start_time_np = time.time()\n",
        "result_np = np.dot(a, b)\n",
        "end_time_np = time.time()\n",
        "np_time = end_time_np - start_time_np\n",
        "\n",
        "# Measure time for JAX NumPy dot product\n",
        "start_time_jax = time.time()\n",
        "result_jax = jnp.dot(c, d).block_until_ready()\n",
        "end_time_jax = time.time()\n",
        "jax_time = end_time_jax - start_time_jax\n",
        "\n",
        "# Compute the time difference\n",
        "time_difference = np_time - jax_time\n",
        "\n",
        "# Print the execution times and time difference\n",
        "print(\"NumPy execution time:\", np_time)\n",
        "print(\"JAX NumPy execution time:\", jax_time)\n",
        "print(\"Time difference (NumPy - JAX NumPy):\", time_difference)\n"
      ],
      "metadata": {
        "colab": {
          "base_uri": "https://localhost:8080/"
        },
        "id": "4sAiLh7QIoV4",
        "outputId": "caf9570d-13d9-4873-e0eb-12e201c69cd7"
      },
      "execution_count": null,
      "outputs": [
        {
          "output_type": "stream",
          "name": "stdout",
          "text": [
            "NumPy execution time: 0.0003561973571777344\n",
            "JAX NumPy execution time: 0.0689547061920166\n",
            "Time difference (NumPy - JAX NumPy): -0.06859850883483887\n"
          ]
        }
      ]
    },
    {
      "cell_type": "code",
      "source": [],
      "metadata": {
        "id": "b0j_RfWcIph8"
      },
      "execution_count": null,
      "outputs": []
    }
  ]
}